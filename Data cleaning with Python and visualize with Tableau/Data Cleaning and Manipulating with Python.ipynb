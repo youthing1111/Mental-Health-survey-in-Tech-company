{
 "cells": [
  {
   "cell_type": "code",
   "execution_count": 1,
   "id": "9a7e4af6",
   "metadata": {},
   "outputs": [],
   "source": [
    "import pandas as pd\n",
    "import numpy as np"
   ]
  },
  {
   "cell_type": "code",
   "execution_count": 2,
   "id": "824d723e",
   "metadata": {},
   "outputs": [],
   "source": [
    "df = pd.read_excel('E:\\Me\\Health survey.xlsx', engine='openpyxl')"
   ]
  },
  {
   "cell_type": "code",
   "execution_count": 3,
   "id": "8996cad0",
   "metadata": {},
   "outputs": [
    {
     "data": {
      "text/plain": [
       "Index(['Timestamp', 'ID', 'Age', 'Gender', 'Country', 'state', 'self_employed',\n",
       "       'family_history', 'treatment', 'work_interfere', 'no_employees',\n",
       "       'remote_work', 'tech_company', 'benefits', 'care_options',\n",
       "       'wellness_program', 'seek_help', 'anonymity', 'leave',\n",
       "       'mental_health_consequence', 'phys_health_consequence', 'coworkers',\n",
       "       'supervisor', 'mental_health_interview', 'phys_health_interview',\n",
       "       'mental_vs_physical', 'obs_consequence', 'comments'],\n",
       "      dtype='object')"
      ]
     },
     "execution_count": 3,
     "metadata": {},
     "output_type": "execute_result"
    }
   ],
   "source": [
    "df.columns"
   ]
  },
  {
   "cell_type": "code",
   "execution_count": 4,
   "id": "61523224",
   "metadata": {},
   "outputs": [],
   "source": [
    "df_mod = df.copy()"
   ]
  },
  {
   "cell_type": "code",
   "execution_count": 5,
   "id": "e6bda138",
   "metadata": {},
   "outputs": [],
   "source": [
    "df_mod = df_mod.drop(columns='Timestamp')"
   ]
  },
  {
   "cell_type": "code",
   "execution_count": 6,
   "id": "ae85e69e",
   "metadata": {},
   "outputs": [
    {
     "data": {
      "text/plain": [
       "['ID', 'Age', 'Gender', 'Country', 'state']"
      ]
     },
     "execution_count": 6,
     "metadata": {},
     "output_type": "execute_result"
    }
   ],
   "source": [
    "id_vars = list(df_mod.columns)[:5]\n",
    "id_vars"
   ]
  },
  {
   "cell_type": "code",
   "execution_count": 7,
   "id": "9a194788",
   "metadata": {},
   "outputs": [],
   "source": [
    "id_vars = list(df_mod.columns)[:5]\n",
    "value_vars = list(df_mod.columns)[5:]"
   ]
  },
  {
   "cell_type": "code",
   "execution_count": 8,
   "id": "422dbbec",
   "metadata": {},
   "outputs": [
    {
     "data": {
      "text/html": [
       "<div>\n",
       "<style scoped>\n",
       "    .dataframe tbody tr th:only-of-type {\n",
       "        vertical-align: middle;\n",
       "    }\n",
       "\n",
       "    .dataframe tbody tr th {\n",
       "        vertical-align: top;\n",
       "    }\n",
       "\n",
       "    .dataframe thead th {\n",
       "        text-align: right;\n",
       "    }\n",
       "</style>\n",
       "<table border=\"1\" class=\"dataframe\">\n",
       "  <thead>\n",
       "    <tr style=\"text-align: right;\">\n",
       "      <th></th>\n",
       "      <th>ID</th>\n",
       "      <th>Age</th>\n",
       "      <th>Gender</th>\n",
       "      <th>Country</th>\n",
       "      <th>state</th>\n",
       "      <th>Questions</th>\n",
       "      <th>Answers</th>\n",
       "    </tr>\n",
       "  </thead>\n",
       "  <tbody>\n",
       "    <tr>\n",
       "      <th>0</th>\n",
       "      <td>1.0</td>\n",
       "      <td>37.0</td>\n",
       "      <td>Female</td>\n",
       "      <td>United States</td>\n",
       "      <td>IL</td>\n",
       "      <td>self_employed</td>\n",
       "      <td>NaN</td>\n",
       "    </tr>\n",
       "    <tr>\n",
       "      <th>1</th>\n",
       "      <td>2.0</td>\n",
       "      <td>44.0</td>\n",
       "      <td>M</td>\n",
       "      <td>United States</td>\n",
       "      <td>IN</td>\n",
       "      <td>self_employed</td>\n",
       "      <td>NaN</td>\n",
       "    </tr>\n",
       "    <tr>\n",
       "      <th>2</th>\n",
       "      <td>3.0</td>\n",
       "      <td>32.0</td>\n",
       "      <td>Male</td>\n",
       "      <td>Canada</td>\n",
       "      <td>NaN</td>\n",
       "      <td>self_employed</td>\n",
       "      <td>NaN</td>\n",
       "    </tr>\n",
       "    <tr>\n",
       "      <th>3</th>\n",
       "      <td>4.0</td>\n",
       "      <td>31.0</td>\n",
       "      <td>Male</td>\n",
       "      <td>United Kingdom</td>\n",
       "      <td>NaN</td>\n",
       "      <td>self_employed</td>\n",
       "      <td>NaN</td>\n",
       "    </tr>\n",
       "    <tr>\n",
       "      <th>4</th>\n",
       "      <td>5.0</td>\n",
       "      <td>31.0</td>\n",
       "      <td>Male</td>\n",
       "      <td>United States</td>\n",
       "      <td>TX</td>\n",
       "      <td>self_employed</td>\n",
       "      <td>NaN</td>\n",
       "    </tr>\n",
       "    <tr>\n",
       "      <th>...</th>\n",
       "      <td>...</td>\n",
       "      <td>...</td>\n",
       "      <td>...</td>\n",
       "      <td>...</td>\n",
       "      <td>...</td>\n",
       "      <td>...</td>\n",
       "      <td>...</td>\n",
       "    </tr>\n",
       "    <tr>\n",
       "      <th>27693</th>\n",
       "      <td>NaN</td>\n",
       "      <td>NaN</td>\n",
       "      <td>NaN</td>\n",
       "      <td>NaN</td>\n",
       "      <td>NaN</td>\n",
       "      <td>comments</td>\n",
       "      <td>NaN</td>\n",
       "    </tr>\n",
       "    <tr>\n",
       "      <th>27694</th>\n",
       "      <td>NaN</td>\n",
       "      <td>NaN</td>\n",
       "      <td>NaN</td>\n",
       "      <td>NaN</td>\n",
       "      <td>NaN</td>\n",
       "      <td>comments</td>\n",
       "      <td>NaN</td>\n",
       "    </tr>\n",
       "    <tr>\n",
       "      <th>27695</th>\n",
       "      <td>NaN</td>\n",
       "      <td>NaN</td>\n",
       "      <td>NaN</td>\n",
       "      <td>NaN</td>\n",
       "      <td>NaN</td>\n",
       "      <td>comments</td>\n",
       "      <td>NaN</td>\n",
       "    </tr>\n",
       "    <tr>\n",
       "      <th>27696</th>\n",
       "      <td>NaN</td>\n",
       "      <td>NaN</td>\n",
       "      <td>NaN</td>\n",
       "      <td>NaN</td>\n",
       "      <td>NaN</td>\n",
       "      <td>comments</td>\n",
       "      <td>NaN</td>\n",
       "    </tr>\n",
       "    <tr>\n",
       "      <th>27697</th>\n",
       "      <td>NaN</td>\n",
       "      <td>NaN</td>\n",
       "      <td>NaN</td>\n",
       "      <td>NaN</td>\n",
       "      <td>NaN</td>\n",
       "      <td>comments</td>\n",
       "      <td>NaN</td>\n",
       "    </tr>\n",
       "  </tbody>\n",
       "</table>\n",
       "<p>27698 rows × 7 columns</p>\n",
       "</div>"
      ],
      "text/plain": [
       "        ID   Age  Gender         Country state      Questions Answers\n",
       "0      1.0  37.0  Female   United States    IL  self_employed     NaN\n",
       "1      2.0  44.0       M   United States    IN  self_employed     NaN\n",
       "2      3.0  32.0    Male          Canada   NaN  self_employed     NaN\n",
       "3      4.0  31.0    Male  United Kingdom   NaN  self_employed     NaN\n",
       "4      5.0  31.0    Male   United States    TX  self_employed     NaN\n",
       "...    ...   ...     ...             ...   ...            ...     ...\n",
       "27693  NaN   NaN     NaN             NaN   NaN       comments     NaN\n",
       "27694  NaN   NaN     NaN             NaN   NaN       comments     NaN\n",
       "27695  NaN   NaN     NaN             NaN   NaN       comments     NaN\n",
       "27696  NaN   NaN     NaN             NaN   NaN       comments     NaN\n",
       "27697  NaN   NaN     NaN             NaN   NaN       comments     NaN\n",
       "\n",
       "[27698 rows x 7 columns]"
      ]
     },
     "execution_count": 8,
     "metadata": {},
     "output_type": "execute_result"
    }
   ],
   "source": [
    "df_mod_melted = df_mod.melt(id_vars=id_vars, value_vars=value_vars, var_name='Questions', value_name='Answers')\n",
    "df_mod_melted"
   ]
  },
  {
   "cell_type": "code",
   "execution_count": 9,
   "id": "3e1b3fe2",
   "metadata": {},
   "outputs": [
    {
     "data": {
      "text/html": [
       "<div>\n",
       "<style scoped>\n",
       "    .dataframe tbody tr th:only-of-type {\n",
       "        vertical-align: middle;\n",
       "    }\n",
       "\n",
       "    .dataframe tbody tr th {\n",
       "        vertical-align: top;\n",
       "    }\n",
       "\n",
       "    .dataframe thead th {\n",
       "        text-align: right;\n",
       "    }\n",
       "</style>\n",
       "<table border=\"1\" class=\"dataframe\">\n",
       "  <thead>\n",
       "    <tr style=\"text-align: right;\">\n",
       "      <th></th>\n",
       "      <th>Questions</th>\n",
       "      <th>Respondents</th>\n",
       "    </tr>\n",
       "  </thead>\n",
       "  <tbody>\n",
       "    <tr>\n",
       "      <th>0</th>\n",
       "      <td>anonymity</td>\n",
       "      <td>598</td>\n",
       "    </tr>\n",
       "    <tr>\n",
       "      <th>1</th>\n",
       "      <td>benefits</td>\n",
       "      <td>598</td>\n",
       "    </tr>\n",
       "    <tr>\n",
       "      <th>2</th>\n",
       "      <td>care_options</td>\n",
       "      <td>598</td>\n",
       "    </tr>\n",
       "    <tr>\n",
       "      <th>3</th>\n",
       "      <td>comments</td>\n",
       "      <td>77</td>\n",
       "    </tr>\n",
       "    <tr>\n",
       "      <th>4</th>\n",
       "      <td>coworkers</td>\n",
       "      <td>598</td>\n",
       "    </tr>\n",
       "    <tr>\n",
       "      <th>5</th>\n",
       "      <td>family_history</td>\n",
       "      <td>598</td>\n",
       "    </tr>\n",
       "    <tr>\n",
       "      <th>6</th>\n",
       "      <td>leave</td>\n",
       "      <td>598</td>\n",
       "    </tr>\n",
       "    <tr>\n",
       "      <th>7</th>\n",
       "      <td>mental_health_consequence</td>\n",
       "      <td>598</td>\n",
       "    </tr>\n",
       "    <tr>\n",
       "      <th>8</th>\n",
       "      <td>mental_health_interview</td>\n",
       "      <td>598</td>\n",
       "    </tr>\n",
       "    <tr>\n",
       "      <th>9</th>\n",
       "      <td>mental_vs_physical</td>\n",
       "      <td>598</td>\n",
       "    </tr>\n",
       "    <tr>\n",
       "      <th>10</th>\n",
       "      <td>no_employees</td>\n",
       "      <td>598</td>\n",
       "    </tr>\n",
       "    <tr>\n",
       "      <th>11</th>\n",
       "      <td>obs_consequence</td>\n",
       "      <td>598</td>\n",
       "    </tr>\n",
       "    <tr>\n",
       "      <th>12</th>\n",
       "      <td>phys_health_consequence</td>\n",
       "      <td>598</td>\n",
       "    </tr>\n",
       "    <tr>\n",
       "      <th>13</th>\n",
       "      <td>phys_health_interview</td>\n",
       "      <td>598</td>\n",
       "    </tr>\n",
       "    <tr>\n",
       "      <th>14</th>\n",
       "      <td>remote_work</td>\n",
       "      <td>598</td>\n",
       "    </tr>\n",
       "    <tr>\n",
       "      <th>15</th>\n",
       "      <td>seek_help</td>\n",
       "      <td>598</td>\n",
       "    </tr>\n",
       "    <tr>\n",
       "      <th>16</th>\n",
       "      <td>self_employed</td>\n",
       "      <td>580</td>\n",
       "    </tr>\n",
       "    <tr>\n",
       "      <th>17</th>\n",
       "      <td>supervisor</td>\n",
       "      <td>598</td>\n",
       "    </tr>\n",
       "    <tr>\n",
       "      <th>18</th>\n",
       "      <td>tech_company</td>\n",
       "      <td>598</td>\n",
       "    </tr>\n",
       "    <tr>\n",
       "      <th>19</th>\n",
       "      <td>treatment</td>\n",
       "      <td>598</td>\n",
       "    </tr>\n",
       "    <tr>\n",
       "      <th>20</th>\n",
       "      <td>wellness_program</td>\n",
       "      <td>598</td>\n",
       "    </tr>\n",
       "    <tr>\n",
       "      <th>21</th>\n",
       "      <td>work_interfere</td>\n",
       "      <td>474</td>\n",
       "    </tr>\n",
       "  </tbody>\n",
       "</table>\n",
       "</div>"
      ],
      "text/plain": [
       "                    Questions  Respondents\n",
       "0                   anonymity          598\n",
       "1                    benefits          598\n",
       "2                care_options          598\n",
       "3                    comments           77\n",
       "4                   coworkers          598\n",
       "5              family_history          598\n",
       "6                       leave          598\n",
       "7   mental_health_consequence          598\n",
       "8     mental_health_interview          598\n",
       "9          mental_vs_physical          598\n",
       "10               no_employees          598\n",
       "11            obs_consequence          598\n",
       "12    phys_health_consequence          598\n",
       "13      phys_health_interview          598\n",
       "14                remote_work          598\n",
       "15                  seek_help          598\n",
       "16              self_employed          580\n",
       "17                 supervisor          598\n",
       "18               tech_company          598\n",
       "19                  treatment          598\n",
       "20           wellness_program          598\n",
       "21             work_interfere          474"
      ]
     },
     "execution_count": 9,
     "metadata": {},
     "output_type": "execute_result"
    }
   ],
   "source": [
    "respondent = df_mod_melted[df_mod_melted['Answers'].notna()]\n",
    "respondent =  respondent.groupby('Questions')['ID'].nunique().reset_index()\n",
    "respondent.rename(columns={'ID':'Respondents'}, inplace=True)\n",
    "respondent"
   ]
  },
  {
   "cell_type": "code",
   "execution_count": 10,
   "id": "952ae01a",
   "metadata": {},
   "outputs": [
    {
     "name": "stdout",
     "output_type": "stream",
     "text": [
      "Original data 13\n",
      "Merged data 9\n",
      "        ID   Age  Gender         Country state      Questions Answers  \\\n",
      "0      1.0  37.0  Female   United States    IL  self_employed     NaN   \n",
      "1      2.0  44.0       M   United States    IN  self_employed     NaN   \n",
      "2      3.0  32.0    Male          Canada   NaN  self_employed     NaN   \n",
      "3      4.0  31.0    Male  United Kingdom   NaN  self_employed     NaN   \n",
      "4      5.0  31.0    Male   United States    TX  self_employed     NaN   \n",
      "...    ...   ...     ...             ...   ...            ...     ...   \n",
      "27693  NaN   NaN     NaN             NaN   NaN       comments     NaN   \n",
      "27694  NaN   NaN     NaN             NaN   NaN       comments     NaN   \n",
      "27695  NaN   NaN     NaN             NaN   NaN       comments     NaN   \n",
      "27696  NaN   NaN     NaN             NaN   NaN       comments     NaN   \n",
      "27697  NaN   NaN     NaN             NaN   NaN       comments     NaN   \n",
      "\n",
      "       Respondents  \n",
      "0              580  \n",
      "1              580  \n",
      "2              580  \n",
      "3              580  \n",
      "4              580  \n",
      "...            ...  \n",
      "27693           77  \n",
      "27694           77  \n",
      "27695           77  \n",
      "27696           77  \n",
      "27697           77  \n",
      "\n",
      "[27698 rows x 8 columns]\n"
     ]
    }
   ],
   "source": [
    "df_merged = pd.merge(left=df_mod_melted, right=respondent, how='left', left_on=\"Questions\", right_on=\"Questions\")\n",
    "print('Original data', len('df_mod_melted'))\n",
    "print('Merged data', len('df_merged'))\n",
    "print(df_merged)"
   ]
  },
  {
   "cell_type": "code",
   "execution_count": 11,
   "id": "074f3b4f",
   "metadata": {},
   "outputs": [
    {
     "data": {
      "text/plain": [
       "0        NaN\n",
       "1        NaN\n",
       "2        NaN\n",
       "3        NaN\n",
       "4        NaN\n",
       "        ... \n",
       "27693    NaN\n",
       "27694    NaN\n",
       "27695    NaN\n",
       "27696    NaN\n",
       "27697    NaN\n",
       "Name: Answers, Length: 27698, dtype: object"
      ]
     },
     "execution_count": 11,
     "metadata": {},
     "output_type": "execute_result"
    }
   ],
   "source": [
    "df_merged['Answers']"
   ]
  },
  {
   "cell_type": "code",
   "execution_count": 12,
   "id": "409ee2fc",
   "metadata": {},
   "outputs": [
    {
     "data": {
      "text/html": [
       "<div>\n",
       "<style scoped>\n",
       "    .dataframe tbody tr th:only-of-type {\n",
       "        vertical-align: middle;\n",
       "    }\n",
       "\n",
       "    .dataframe tbody tr th {\n",
       "        vertical-align: top;\n",
       "    }\n",
       "\n",
       "    .dataframe thead th {\n",
       "        text-align: right;\n",
       "    }\n",
       "</style>\n",
       "<table border=\"1\" class=\"dataframe\">\n",
       "  <thead>\n",
       "    <tr style=\"text-align: right;\">\n",
       "      <th></th>\n",
       "      <th>Questions</th>\n",
       "      <th>Answers</th>\n",
       "      <th>Same Answer</th>\n",
       "    </tr>\n",
       "  </thead>\n",
       "  <tbody>\n",
       "    <tr>\n",
       "      <th>0</th>\n",
       "      <td>anonymity</td>\n",
       "      <td>Don't know</td>\n",
       "      <td>401</td>\n",
       "    </tr>\n",
       "    <tr>\n",
       "      <th>1</th>\n",
       "      <td>anonymity</td>\n",
       "      <td>No</td>\n",
       "      <td>28</td>\n",
       "    </tr>\n",
       "    <tr>\n",
       "      <th>2</th>\n",
       "      <td>anonymity</td>\n",
       "      <td>Yes</td>\n",
       "      <td>169</td>\n",
       "    </tr>\n",
       "    <tr>\n",
       "      <th>3</th>\n",
       "      <td>benefits</td>\n",
       "      <td>Don't know</td>\n",
       "      <td>192</td>\n",
       "    </tr>\n",
       "    <tr>\n",
       "      <th>4</th>\n",
       "      <td>benefits</td>\n",
       "      <td>No</td>\n",
       "      <td>166</td>\n",
       "    </tr>\n",
       "    <tr>\n",
       "      <th>...</th>\n",
       "      <td>...</td>\n",
       "      <td>...</td>\n",
       "      <td>...</td>\n",
       "    </tr>\n",
       "    <tr>\n",
       "      <th>135</th>\n",
       "      <td>wellness_program</td>\n",
       "      <td>Yes</td>\n",
       "      <td>102</td>\n",
       "    </tr>\n",
       "    <tr>\n",
       "      <th>136</th>\n",
       "      <td>work_interfere</td>\n",
       "      <td>Never</td>\n",
       "      <td>110</td>\n",
       "    </tr>\n",
       "    <tr>\n",
       "      <th>137</th>\n",
       "      <td>work_interfere</td>\n",
       "      <td>Often</td>\n",
       "      <td>60</td>\n",
       "    </tr>\n",
       "    <tr>\n",
       "      <th>138</th>\n",
       "      <td>work_interfere</td>\n",
       "      <td>Rarely</td>\n",
       "      <td>88</td>\n",
       "    </tr>\n",
       "    <tr>\n",
       "      <th>139</th>\n",
       "      <td>work_interfere</td>\n",
       "      <td>Sometimes</td>\n",
       "      <td>216</td>\n",
       "    </tr>\n",
       "  </tbody>\n",
       "</table>\n",
       "<p>140 rows × 3 columns</p>\n",
       "</div>"
      ],
      "text/plain": [
       "            Questions     Answers  Same Answer\n",
       "0           anonymity  Don't know          401\n",
       "1           anonymity          No           28\n",
       "2           anonymity         Yes          169\n",
       "3            benefits  Don't know          192\n",
       "4            benefits          No          166\n",
       "..                ...         ...          ...\n",
       "135  wellness_program         Yes          102\n",
       "136    work_interfere       Never          110\n",
       "137    work_interfere       Often           60\n",
       "138    work_interfere      Rarely           88\n",
       "139    work_interfere   Sometimes          216\n",
       "\n",
       "[140 rows x 3 columns]"
      ]
     },
     "execution_count": 12,
     "metadata": {},
     "output_type": "execute_result"
    }
   ],
   "source": [
    "same_answer = df_merged\n",
    "#same_answer = same_answer.groupby(['Questions', 'Answers'])['Respondents'].nunique().reset_index()\n",
    "same_answer = same_answer.groupby(['Questions', 'Answers'])['Respondents'].count().reset_index()\n",
    "same_answer.rename(columns={'Respondents':'Same Answer'}, inplace=True)\n",
    "same_answer"
   ]
  },
  {
   "cell_type": "code",
   "execution_count": 13,
   "id": "c85d69ee",
   "metadata": {},
   "outputs": [
    {
     "name": "stdout",
     "output_type": "stream",
     "text": [
      "Original data 9\n",
      "Merged data 13\n",
      "        ID   Age  Gender         Country state      Questions Answers  \\\n",
      "0      1.0  37.0  Female   United States    IL  self_employed     NaN   \n",
      "1      2.0  44.0       M   United States    IN  self_employed     NaN   \n",
      "2      3.0  32.0    Male          Canada   NaN  self_employed     NaN   \n",
      "3      4.0  31.0    Male  United Kingdom   NaN  self_employed     NaN   \n",
      "4      5.0  31.0    Male   United States    TX  self_employed     NaN   \n",
      "...    ...   ...     ...             ...   ...            ...     ...   \n",
      "27693  NaN   NaN     NaN             NaN   NaN       comments     NaN   \n",
      "27694  NaN   NaN     NaN             NaN   NaN       comments     NaN   \n",
      "27695  NaN   NaN     NaN             NaN   NaN       comments     NaN   \n",
      "27696  NaN   NaN     NaN             NaN   NaN       comments     NaN   \n",
      "27697  NaN   NaN     NaN             NaN   NaN       comments     NaN   \n",
      "\n",
      "       Respondents  Same Answer  \n",
      "0              580          0.0  \n",
      "1              580          0.0  \n",
      "2              580          0.0  \n",
      "3              580          0.0  \n",
      "4              580          0.0  \n",
      "...            ...          ...  \n",
      "27693           77          0.0  \n",
      "27694           77          0.0  \n",
      "27695           77          0.0  \n",
      "27696           77          0.0  \n",
      "27697           77          0.0  \n",
      "\n",
      "[27698 rows x 9 columns]\n"
     ]
    }
   ],
   "source": [
    "df_merged_two = pd.merge(left=df_merged, right=same_answer, how='left', left_on=['Questions', 'Answers'], right_on=['Questions', 'Answers'])\n",
    "df_merged_two['Same Answer'].fillna(0, inplace=True)\n",
    "print('Original data', len('df_merged'))\n",
    "print('Merged data', len('df_merged_two'))\n",
    "print(df_merged_two)"
   ]
  },
  {
   "cell_type": "code",
   "execution_count": 14,
   "id": "a3494c8c",
   "metadata": {},
   "outputs": [
    {
     "data": {
      "text/plain": [
       "array(['Female', 'M', 'Male', 'male', 'female', 'm', 'Male-ish', 'maile',\n",
       "       'Trans-female', 'Cis Female', 'F', 'something kinda male?',\n",
       "       'Cis Male', 'Woman', 'f', 'Mal', 'Male (CIS)', 'queer/she/they',\n",
       "       'non-binary', 'Femake', 'woman', 'Make', 'Nah', 'All', 'Enby',\n",
       "       'fluid', 'Genderqueer', 'Female ', 'Androgyne', 'Agender', nan],\n",
       "      dtype=object)"
      ]
     },
     "execution_count": 14,
     "metadata": {},
     "output_type": "execute_result"
    }
   ],
   "source": [
    "Gender_value = df_merged_two['Gender'].unique()\n",
    "Gender_value"
   ]
  },
  {
   "cell_type": "code",
   "execution_count": 15,
   "id": "f8030e2f",
   "metadata": {},
   "outputs": [
    {
     "data": {
      "text/plain": [
       "array(['Female', 'Male', 'Other', nan], dtype=object)"
      ]
     },
     "execution_count": 15,
     "metadata": {},
     "output_type": "execute_result"
    }
   ],
   "source": [
    "df_merged_two['Gender'] = df_merged_two['Gender']. replace(['M', 'male', 'm', 'Male-ish', 'maile', 'Mal', 'Make'], 'Male')\n",
    "df_merged_two['Gender'] = df_merged_two['Gender']. replace(['female', 'F', 'Woman', 'f', 'Femake', 'woman', 'Female '], 'Female')\n",
    "df_merged_two['Gender'] = df_merged_two['Gender']. replace(['Trans-female', 'Cis Female', 'something kinda male?', 'Male (CIS)', 'queer/she/they','Cis Male', 'non-binary', 'Nah', 'All','Enby', 'fluid','Genderqueer', 'Androgyne','Agender'], 'Other')\n",
    "Gender_value = df_merged_two['Gender'].unique()\n",
    "Gender_value"
   ]
  },
  {
   "cell_type": "code",
   "execution_count": 16,
   "id": "4456502b",
   "metadata": {},
   "outputs": [
    {
     "data": {
      "text/plain": [
       "array([ 3.70e+01,  4.40e+01,  3.20e+01,  3.10e+01,  3.30e+01,  3.50e+01,\n",
       "        3.90e+01,  4.20e+01,  2.30e+01,  2.90e+01,  3.60e+01,  2.70e+01,\n",
       "        4.60e+01,  4.10e+01,  3.40e+01,  3.00e+01,  4.00e+01,  3.80e+01,\n",
       "        5.00e+01,  2.40e+01,  1.80e+01,  2.80e+01,  2.60e+01,  2.20e+01,\n",
       "        1.90e+01,  2.50e+01,  4.50e+01,  2.10e+01, -2.90e+01,  4.30e+01,\n",
       "        5.60e+01,  6.00e+01,  5.40e+01,  3.29e+02,  5.50e+01,  1.00e+11,\n",
       "        4.80e+01,  2.00e+01,  5.70e+01,  5.80e+01,  4.70e+01,  6.20e+01,\n",
       "        5.10e+01,  6.50e+01,       nan])"
      ]
     },
     "execution_count": 16,
     "metadata": {},
     "output_type": "execute_result"
    }
   ],
   "source": [
    "df_merged_two['Age'].unique()\n"
   ]
  },
  {
   "cell_type": "code",
   "execution_count": 17,
   "id": "1c13e4e1",
   "metadata": {},
   "outputs": [
    {
     "name": "stdout",
     "output_type": "stream",
     "text": [
      "30.0\n"
     ]
    }
   ],
   "source": [
    "print(df_merged_two['Age'].median())"
   ]
  },
  {
   "cell_type": "code",
   "execution_count": 18,
   "id": "280df234",
   "metadata": {},
   "outputs": [
    {
     "data": {
      "text/plain": [
       "array([37., 44., 32., 31., 33., 35., 39., 42., 23., 29., 36., 27., 46.,\n",
       "       41., 34., 30., 40., 38., 50., 24., 18., 28., 26., 22., 19., 25.,\n",
       "       45., 21., 43., 56., 60., 54., 55., 48., 20., 57., 58., 47., 62.,\n",
       "       51., 65., nan])"
      ]
     },
     "execution_count": 18,
     "metadata": {},
     "output_type": "execute_result"
    }
   ],
   "source": [
    "df_merged_two[\"Age\"] = np.where(df_merged_two[\"Age\"] <0, 30,df_merged_two['Age'])\n",
    "df_merged_two[\"Age\"] = np.where(df_merged_two[\"Age\"] >100, 30,df_merged_two['Age'])\n",
    "df_merged_two['Age'].unique()"
   ]
  },
  {
   "cell_type": "code",
   "execution_count": 19,
   "id": "ef772e10",
   "metadata": {},
   "outputs": [],
   "source": [
    "df_merged_two['Answers'].fillna(\"No answer\", inplace=True)\n",
    "df_merged_two['Age'].fillna(30, inplace=True)\n"
   ]
  },
  {
   "cell_type": "code",
   "execution_count": 20,
   "id": "fc073d3d",
   "metadata": {},
   "outputs": [],
   "source": [
    "df_merged_two.to_excel('Output.xlsx', sheet_name='Sheet1', index=False)"
   ]
  }
 ],
 "metadata": {
  "kernelspec": {
   "display_name": "Python 3 (ipykernel)",
   "language": "python",
   "name": "python3"
  },
  "language_info": {
   "codemirror_mode": {
    "name": "ipython",
    "version": 3
   },
   "file_extension": ".py",
   "mimetype": "text/x-python",
   "name": "python",
   "nbconvert_exporter": "python",
   "pygments_lexer": "ipython3",
   "version": "3.8.5"
  }
 },
 "nbformat": 4,
 "nbformat_minor": 5
}
